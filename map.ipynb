{
 "cells": [
  {
   "cell_type": "code",
   "execution_count": null,
   "metadata": {
    "collapsed": true
   },
   "outputs": [],
   "source": [
    "import tensorflow as tf\n",
    "import matplotlib.pyplot as plt\n",
    "import os\n",
    "import cv2\n",
    "import numpy as np\n",
    "import pandas as pd\n",
    "from sklearn.model_selection import train_test_split\n",
    "from keras import backend as K\n",
    "KL = tf.keras.layers\n",
    "from tensorflow.keras.models import  Sequential,Model\n",
    "from tensorflow import keras\n",
    "from tensorflow.keras.layers import * #Dropout, Dense, LSTM,Activation,GRU,Input\n",
    "from tensorflow.keras.optimizers import SGD,Adam\n",
    "from keras import regularizers\n",
    "from sklearn.cluster import SpectralClustering\n",
    "from sklearn import metrics\n",
    "from sklearn.preprocessing import MinMaxScaler\n",
    "import tensorflow as tf\n",
    "from tensorflow.keras.optimizers import Adam\n",
    "from keras.callbacks import ReduceLROnPlateau\n",
    "import matplotlib.pyplot as plt\n",
    "import seaborn as sns\n",
    "from sklearn.metrics import classification_report, confusion_matrix"
   ]
  },
  {
   "cell_type": "code",
   "execution_count": null,
   "metadata": {
    "collapsed": true
   },
   "outputs": [],
   "source": [
    "# Assume input_data is your matrix data\n",
    "# Predictions results\n",
    "predictions = model.predict(x_dataall)\n",
    "# print(predictions.shape)\n",
    "# print(predictions)\n",
    "\n",
    "# Convert to integer representation\n",
    "integer_predictions = np.argmax(predictions, axis=1)\n",
    "\n",
    "print(integer_predictions)\n",
    "# Convert to a column and print\n",
    "integer_predictions_column = integer_predictions.reshape(-1, 1)"
   ]
  },
  {
   "cell_type": "code",
   "execution_count": null,
   "metadata": {
    "collapsed": true
   },
   "outputs": [],
   "source": [
    "label_index = np.load(\"label_index2.npy\")\n",
    "color_mapping = {\n",
    "    0: [1, 1, 0],  \n",
    "    1: [0.8, 0.52, 0.25],\n",
    "    2: [0.0, 0.5, 0.0],\n",
    "    3: [0.0, 0.8, 0.0], \n",
    "}\n",
    "\n",
    "# Create a large matrix to store the coloring results of all images\n",
    "big_image = np.ones((22990, 20009, 3), dtype=np.float32)\n",
    "\n",
    "# Define the size of each small image\n",
    "image_height, image_width = 20, 20\n",
    "\n",
    "# Color each sample and place it in the large matrix\n",
    "for i in range(len(integer_predictions_column)):\n",
    "    color_image = np.zeros((image_height, image_width, 3))  # Initialize the color image\n",
    "\n",
    "    for x in range(image_height):\n",
    "        for y in range(image_width):\n",
    "            label = integer_predictions_column[i, 0]  # Get the label value of the current sample\n",
    "            color = color_mapping.get(label, [1, 1, 1])  # Get the corresponding color; default to white if the label is not in the mapping\n",
    "            color_image[x, y] = color  # Apply color to the pixel\n",
    "\n",
    "    # Determine the position of the current image in the large matrix\n",
    "    row_start = (i // 100) * image_height\n",
    "    col_start = (i % 100) * image_width\n",
    "\n",
    "    # Place the current image in the large matrix\n",
    "    big_image[int(label_index[i][0] * image_height):int(label_index[i][0] * image_height) + image_height,\n",
    "              int(label_index[i][1] * image_width):int(label_index[i][1] * image_width) + image_width] = color_image\n",
    "\n",
    "\n",
    "# Display the coloring results of the large matrix\n",
    "plt.imshow(big_image)\n",
    "plt.axis('off')  # Do not display axes\n",
    "plt.savefig('result_image.png', dpi=1200)  # Save the resulting image\n",
    "plt.show()"
   ]
  }
 ],
 "metadata": {
  "kernelspec": {
   "display_name": "Python 3",
   "language": "python",
   "name": "python3"
  },
  "language_info": {
   "codemirror_mode": {
    "name": "ipython",
    "version": 3
   },
   "file_extension": ".py",
   "mimetype": "text/x-python",
   "name": "python",
   "nbconvert_exporter": "python",
   "pygments_lexer": "ipython3",
   "version": "3.6.3"
  }
 },
 "nbformat": 4,
 "nbformat_minor": 5
}
